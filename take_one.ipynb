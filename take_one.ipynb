{
  "cells": [
    {
      "cell_type": "markdown",
      "metadata": {
        "id": "view-in-github",
        "colab_type": "text"
      },
      "source": [
        "<a href=\"https://colab.research.google.com/github/JonathanBergen/cuda-press/blob/main/take_one.ipynb\" target=\"_parent\"><img src=\"https://colab.research.google.com/assets/colab-badge.svg\" alt=\"Open In Colab\"/></a>"
      ]
    },
    {
      "cell_type": "markdown",
      "metadata": {
        "id": "53-X0jbbNlvL"
      },
      "source": [
        "## Image Compression using K-means, parallelized with pyCuda"
      ]
    },
    {
      "cell_type": "code",
      "source": [
        "from google.colab import drive\n",
        "drive.mount('/content/drive')"
      ],
      "metadata": {
        "colab": {
          "base_uri": "https://localhost:8080/"
        },
        "id": "TdOme3JDVMoy",
        "outputId": "d619fa77-b6ca-403d-a4f3-5c0ee92075be"
      },
      "execution_count": 12,
      "outputs": [
        {
          "output_type": "stream",
          "name": "stdout",
          "text": [
            "Drive already mounted at /content/drive; to attempt to forcibly remount, call drive.mount(\"/content/drive\", force_remount=True).\n"
          ]
        }
      ]
    },
    {
      "cell_type": "code",
      "source": [
        "%cd /content/drive/MyDrive/take_one.ipynb"
      ],
      "metadata": {
        "colab": {
          "base_uri": "https://localhost:8080/"
        },
        "id": "32XfuvMnVZpS",
        "outputId": "6f3e612c-a2f8-4d30-9da4-31f27a72d1c3"
      },
      "execution_count": 13,
      "outputs": [
        {
          "output_type": "stream",
          "name": "stdout",
          "text": [
            "[Errno 2] No such file or directory: '/content/drive/MyDrive/take_one.ipynb'\n",
            "/content\n"
          ]
        }
      ]
    },
    {
      "cell_type": "code",
      "execution_count": 14,
      "metadata": {
        "id": "p8INMBuqNlvN"
      },
      "outputs": [],
      "source": [
        "# Import modules\n",
        "import matplotlib.pyplot as plt\n",
        "from mpl_toolkits.mplot3d import Axes3D\n",
        "import random\n",
        "import time\n",
        "import numpy as np"
      ]
    },
    {
      "cell_type": "markdown",
      "source": [
        "# Hello"
      ],
      "metadata": {
        "id": "VcldfOYuY9EF"
      }
    },
    {
      "cell_type": "code",
      "execution_count": 15,
      "metadata": {
        "colab": {
          "base_uri": "https://localhost:8080/"
        },
        "id": "fzlVB33DNlvO",
        "outputId": "9a0a911d-b8f2-45bc-84df-7b9f696a6096"
      },
      "outputs": [
        {
          "name": "stdout",
          "output_type": "stream",
          "text": [
            "Enter the file name: dietrich.jpg\n"
          ]
        }
      ],
      "source": [
        "# Read an image from a file\n",
        "fileName = input(\"Enter the file name: \")"
      ]
    },
    {
      "cell_type": "code",
      "execution_count": 18,
      "metadata": {
        "colab": {
          "base_uri": "https://localhost:8080/"
        },
        "id": "TE3iNgM3NlvO",
        "outputId": "507d6202-822f-4801-a5d0-5cee2295e20e"
      },
      "outputs": [
        {
          "output_type": "stream",
          "name": "stdout",
          "text": [
            "(4032, 3024, 3)\n"
          ]
        }
      ],
      "source": [
        "# Load the image into an array\n",
        "image = plt.imread(fileName)\n",
        "print(image.shape)"
      ]
    },
    {
      "cell_type": "code",
      "execution_count": null,
      "metadata": {
        "id": "yDhkMTpnNlvP"
      },
      "outputs": [],
      "source": [
        "# # Display RGB image on a 3D plot, with the x, y, and z axis representing the red, green, and blue channels respectively\n",
        "\n",
        "# # Extract R, G, B channels\n",
        "# R = image[:, :, 0]\n",
        "# G = image[:, :, 1]\n",
        "# B = image[:, :, 2]\n",
        "\n",
        "# # Create 3D plot\n",
        "# fig = plt.figure()\n",
        "# ax = fig.add_subplot(111, projection='3d')\n",
        "\n",
        "# # Plot RGB values as scatter points\n",
        "# ax.scatter(R.flatten(), G.flatten(), B.flatten(), c=image.reshape((-1,3))/255.0, marker='o')\n",
        "\n",
        "# # Set axis labels\n",
        "# ax.set_xlabel('Red')\n",
        "# ax.set_ylabel('Green')\n",
        "# ax.set_zlabel('Blue')\n",
        "\n",
        "# # Show plot\n",
        "# plt.show()"
      ]
    },
    {
      "cell_type": "code",
      "execution_count": 19,
      "metadata": {
        "colab": {
          "base_uri": "https://localhost:8080/"
        },
        "id": "ZwAJeVu9NlvP",
        "outputId": "da9fdfbf-79bb-48c8-9aa4-967bf3c9f2e0"
      },
      "outputs": [
        {
          "output_type": "stream",
          "name": "stdout",
          "text": [
            "Enter number of centroids: 10\n",
            "Proceeding with k = 10\n"
          ]
        }
      ],
      "source": [
        "# Get number of centroids (this is the value of k)\n",
        "while True:\n",
        "    n_centroids = input(\"Enter number of centroids: \")\n",
        "    try:\n",
        "        n_centroids = int(n_centroids)\n",
        "        print(f\"Proceeding with k = {n_centroids}\")\n",
        "        break\n",
        "    except ValueError:\n",
        "        print(\"Invalid input. Please enter an integer.\")"
      ]
    },
    {
      "cell_type": "code",
      "execution_count": 20,
      "metadata": {
        "colab": {
          "base_uri": "https://localhost:8080/",
          "height": 518
        },
        "id": "64IP2MC5NlvQ",
        "outputId": "46524be6-5215-4c91-9585-0bf5f2ccc334"
      },
      "outputs": [
        {
          "output_type": "stream",
          "name": "stdout",
          "text": [
            "Number of pixels: 12192768\n",
            "Selecting 10 random data points to serve as initial centroids\n",
            "Selected pixels: [[165, 136], [148, 2682], [1059, 235], [2061, 814], [2440, 1409], [2297, 2552], [108, 3022], [1286, 62], [2311, 940], [1112, 2196]]\n",
            "Centroids: [array([ 70,  98, 135], dtype=uint8), array([ 55,  84, 126], dtype=uint8), array([115, 140, 170], dtype=uint8), array([251, 233, 151], dtype=uint8), array([60, 48, 32], dtype=uint8), array([4, 4, 2], dtype=uint8), array([ 52,  81, 125], dtype=uint8), array([124, 149, 171], dtype=uint8), array([254, 234, 173], dtype=uint8), array([ 91, 121, 157], dtype=uint8)]\n"
          ]
        },
        {
          "output_type": "display_data",
          "data": {
            "text/plain": [
              "<Figure size 640x480 with 1 Axes>"
            ],
            "image/png": "[encoded data removed]"
          },
          "metadata": {}
        }
      ],
      "source": [
        "# Assign random centroids\n",
        "n_rows = image.shape[0]\n",
        "n_columns = image.shape[1]\n",
        "n_pixels = n_rows * n_columns\n",
        "print(\"Number of pixels: \" + str(n_pixels))\n",
        "print(f\"Selecting {n_centroids} random data points to serve as initial centroids\")\n",
        "\n",
        "# Using the .sample function eliminates duplicate choices\n",
        "selections = random.sample(range(n_pixels), n_centroids)\n",
        "selections = [[sel // n_rows, sel % n_columns] for sel in selections]\n",
        "print(\"Selected pixels: \" + str(selections))\n",
        "\n",
        "# Create a list of centroids\n",
        "centroids = []\n",
        "for i,j in selections:\n",
        "    centroids.append(image[i][j])\n",
        "print(\"Centroids: \" + str(centroids))\n",
        "\n",
        "color_array = np.array([np.array(centroids, dtype=np.uint8)])\n",
        "\n",
        "# Display the color array as a matplotlib graph\n",
        "fig, ax = plt.subplots()\n",
        "ax.imshow(color_array, aspect='auto')\n",
        "plt.show()"
      ]
    },
    {
      "cell_type": "code",
      "execution_count": 21,
      "metadata": {
        "id": "B6GtR6UhNlvQ"
      },
      "outputs": [],
      "source": [
        "# A function to calculate the distance between a point and a centroid in three dimensions\n",
        "# def distance(point, centroid):\n",
        "#     return ((point.r - centroid.r) ** 2 + (point.g - centroid.g) ** 2 + (point.b - centroid.b) ** 2)"
      ]
    },
    {
      "cell_type": "code",
      "execution_count": 22,
      "metadata": {
        "colab": {
          "base_uri": "https://localhost:8080/"
        },
        "id": "h9LpRZI3NlvQ",
        "outputId": "256cab54-2f02-468b-fa86-78a041b94e30"
      },
      "outputs": [
        {
          "output_type": "stream",
          "name": "stdout",
          "text": [
            "Looking in indexes: https://pypi.org/simple, https://us-python.pkg.dev/colab-wheels/public/simple/\n",
            "Collecting pycuda\n",
            "  Downloading pycuda-2022.2.2.tar.gz (1.7 MB)\n",
            "\u001b[2K     \u001b[90m━━━━━━━━━━━━━━━━━━━━━━━━━━━━━━━━━━━━━━━━\u001b[0m \u001b[32m1.7/1.7 MB\u001b[0m \u001b[31m42.3 MB/s\u001b[0m eta \u001b[36m0:00:00\u001b[0m\n",
            "\u001b[?25h  Installing build dependencies ... \u001b[?25l\u001b[?25hdone\n",
            "  Getting requirements to build wheel ... \u001b[?25l\u001b[?25hdone\n",
            "  Preparing metadata (pyproject.toml) ... \u001b[?25l\u001b[?25hdone\n",
            "Requirement already satisfied: appdirs>=1.4.0 in /usr/local/lib/python3.9/dist-packages (from pycuda) (1.4.4)\n",
            "Collecting mako\n",
            "  Downloading Mako-1.2.4-py3-none-any.whl (78 kB)\n",
            "\u001b[2K     \u001b[90m━━━━━━━━━━━━━━━━━━━━━━━━━━━━━━━━━━━━━━━━\u001b[0m \u001b[32m78.7/78.7 KB\u001b[0m \u001b[31m9.1 MB/s\u001b[0m eta \u001b[36m0:00:00\u001b[0m\n",
            "\u001b[?25hCollecting pytools>=2011.2\n",
            "  Downloading pytools-2022.1.14.tar.gz (74 kB)\n",
            "\u001b[2K     \u001b[90m━━━━━━━━━━━━━━━━━━━━━━━━━━━━━━━━━━━━━━━━\u001b[0m \u001b[32m74.6/74.6 KB\u001b[0m \u001b[31m11.2 MB/s\u001b[0m eta \u001b[36m0:00:00\u001b[0m\n",
            "\u001b[?25h  Preparing metadata (setup.py) ... \u001b[?25l\u001b[?25hdone\n",
            "Requirement already satisfied: platformdirs>=2.2.0 in /usr/local/lib/python3.9/dist-packages (from pytools>=2011.2->pycuda) (3.2.0)\n",
            "Requirement already satisfied: typing_extensions>=4.0 in /usr/local/lib/python3.9/dist-packages (from pytools>=2011.2->pycuda) (4.5.0)\n",
            "Requirement already satisfied: MarkupSafe>=0.9.2 in /usr/local/lib/python3.9/dist-packages (from mako->pycuda) (2.1.2)\n",
            "Building wheels for collected packages: pycuda, pytools\n",
            "  Building wheel for pycuda (pyproject.toml) ... \u001b[?25l\u001b[?25hdone\n",
            "  Created wheel for pycuda: filename=pycuda-2022.2.2-cp39-cp39-linux_x86_64.whl size=661963 sha256=dc5de5c1540772ca011221720ac824285c728a793081d45a8520a2c56d47ae32\n",
            "  Stored in directory: /root/.cache/pip/wheels/82/09/27/74d8e31ed19c530166e0d263aabe1ea57465e255615bda8fc0\n",
            "  Building wheel for pytools (setup.py) ... \u001b[?25l\u001b[?25hdone\n",
            "  Created wheel for pytools: filename=pytools-2022.1.14-py2.py3-none-any.whl size=69866 sha256=f09c417c1bd56d3e8950b9a80830219ec867cdd18c256f6df22412635c25ee35\n",
            "  Stored in directory: /root/.cache/pip/wheels/76/ee/8c/332750bd78e80cdef14a96eb5b539adf0dcda50a97bbdfcbd8\n",
            "Successfully built pycuda pytools\n",
            "Installing collected packages: pytools, mako, pycuda\n",
            "Successfully installed mako-1.2.4 pycuda-2022.2.2 pytools-2022.1.14\n"
          ]
        }
      ],
      "source": [
        "# One-time PyCuda installs\n",
        "# !wget https://developer.download.nvidia.com/compute/cuda/repos/ubuntu1804/x86_64/cuda-ubuntu1804.pin\n",
        "# !sudo mv cuda-ubuntu1804.pin /etc/apt/preferences.d/cuda-repository-pin-600\n",
        "# !wget https://developer.download.nvidia.com/compute/cuda/11.2.0/local_installers/cuda-repo-ubuntu1804-11-2-local_11.2.0-460.27.04-1_amd64.deb\n",
        "# !sudo dpkg -i cuda-repo-ubuntu1804-11-2-local_11.2.0-460.27.04-1_amd64.deb\n",
        "# !sudo apt-key add /var/cuda-repo-ubuntu1804-11-2-local/7fa2af80.pub\n",
        "# !sudo apt-get update\n",
        "# !sudo apt-get -y install cuda\n",
        "!pip install pycuda"
      ]
    },
    {
      "cell_type": "code",
      "execution_count": 23,
      "metadata": {
        "colab": {
          "base_uri": "https://localhost:8080/"
        },
        "id": "UVVTCA-vNlvQ",
        "outputId": "36403862-b45a-463e-a248-86fb1494d73a"
      },
      "outputs": [
        {
          "output_type": "stream",
          "name": "stdout",
          "text": [
            "Max threads per block: 1024\n",
            "Warp size: 32\n",
            "Device memory: 49152\n",
            "Grid dim: (95, 126, 1)\n",
            "Block dim: (32, 32, 1)\n",
            "Total threads allocated: 3040 x 4032 = 12257280\n",
            "Threads utilized: 99.47368421052632%\n"
          ]
        }
      ],
      "source": [
        "# Determine the best grid ad block dimensions\n",
        "import pycuda.driver as cuda\n",
        "import pycuda.autoinit\n",
        "from pycuda.tools import DeviceData\n",
        "\n",
        "# Create a PyCUDA context for the current device.\n",
        "ctx = cuda.Device(0).make_context()\n",
        "\n",
        "# Get the stats for the current device.\n",
        "device_data = DeviceData()\n",
        "max_threads_per_block = device_data.max_threads\n",
        "warp_size = device_data.warp_size\n",
        "memory_per_block = device_data.shared_memory\n",
        "\n",
        "# Print the stats.\n",
        "print(f\"Max threads per block: {max_threads_per_block}\")\n",
        "print(f\"Warp size: {warp_size}\")\n",
        "print(f\"Device memory: {memory_per_block}\")\n",
        "\n",
        "# Release the PyCUDA context.\n",
        "ctx.pop()\n",
        "\n",
        "# Define block dimensions\n",
        "block_dim = (warp_size, warp_size, 1)\n",
        "\n",
        "# Calculate grid dimensions\n",
        "grid_dim_x = int((n_columns + block_dim[0] - 1) / block_dim[0])\n",
        "grid_dim_y = int((n_rows + block_dim[1] - 1) / block_dim[1])\n",
        "grid_dim_z = 1\n",
        "grid_dim = (grid_dim_x, grid_dim_y, grid_dim_z)\n",
        "\n",
        "thread_dim_x = grid_dim_x * block_dim[0]\n",
        "thread_dim_y = grid_dim_y * block_dim[1]\n",
        "thread_dim_2d = thread_dim_x * thread_dim_y\n",
        "\n",
        "print(f\"Grid dim: {grid_dim}\")\n",
        "print(f\"Block dim: {block_dim}\")\n",
        "print(f\"Total threads allocated: {thread_dim_x} x {thread_dim_y} = {thread_dim_2d}\")\n",
        "print(f\"Threads utilized: {n_pixels / thread_dim_2d * 100}%\")"
      ]
    },
    {
      "cell_type": "code",
      "source": [],
      "metadata": {
        "id": "ic0r0gt9gB4A"
      },
      "execution_count": null,
      "outputs": []
    },
    {
      "cell_type": "code",
      "execution_count": 25,
      "metadata": {
        "id": "1cv0hJrPNlvR"
      },
      "outputs": [],
      "source": [
        "# Copy the image data to the GPU\n",
        "\n",
        "import pycuda.gpuarray as gpuarray\n",
        "\n",
        "im_gpu = cuda.mem_alloc(image.nbytes)\n",
        "cuda.memcpy_htod(im_gpu, image)"
      ]
    },
    {
      "cell_type": "code",
      "source": [
        "mod = SourceModule(\"\"\"\n",
        "  __global__ void redify(float *a)\n",
        "  {\n",
        "    int idx = threadIdx.x + threadIdx.y*4;\n",
        "    a[idx] *= 2;\n",
        "  }\n",
        "  \"\"\")"
      ],
      "metadata": {
        "id": "7qce-jiZdV7h"
      },
      "execution_count": null,
      "outputs": []
    },
    {
      "cell_type": "code",
      "execution_count": null,
      "metadata": {
        "id": "H_hpI1qRNlvR"
      },
      "outputs": [],
      "source": [
        "# Loop through the iterations\n",
        "\n",
        "max_iterations = input(\"Enter the maximum number of iterations: \")\n",
        "\n",
        "for i in range(max_iterations):\n",
        "    # Assign each point to the closest centroid\n",
        "    for point in points:\n",
        "        # Calculate the distance between the point and the centroid\n",
        "        # Assign the point to the closest centroid\n",
        "        # Update the cluster assignment of the point\n",
        "        pass\n",
        "\n",
        "    # Update the centroids\n",
        "    for centroid in centroids:\n",
        "        # Calculate the mean of the points assigned to the centroid\n",
        "        # Update the centroid to the mean of the points assigned to it\n",
        "        pass\n"
      ]
    },
    {
      "cell_type": "code",
      "execution_count": null,
      "metadata": {
        "id": "LsOZao8ZNlvR"
      },
      "outputs": [],
      "source": [
        "# Display the clustered image on a 3D plot"
      ]
    },
    {
      "cell_type": "code",
      "execution_count": null,
      "metadata": {
        "id": "j9WyG9nvNlvR"
      },
      "outputs": [],
      "source": [
        "# Display the final image"
      ]
    },
    {
      "cell_type": "code",
      "execution_count": null,
      "metadata": {
        "id": "t6WGIXKJNlvR"
      },
      "outputs": [],
      "source": [
        "!git add .\n",
        "!git commit -m \"commit message\"\n",
        "!git push origin master\n"
      ]
    }
  ],
  "metadata": {
    "kernelspec": {
      "display_name": "Python 3",
      "language": "python",
      "name": "python3"
    },
    "language_info": {
      "codemirror_mode": {
        "name": "ipython",
        "version": 3
      },
      "file_extension": ".py",
      "mimetype": "text/x-python",
      "name": "python",
      "nbconvert_exporter": "python",
      "pygments_lexer": "ipython3",
      "version": "3.10.3"
    },
    "orig_nbformat": 4,
    "vscode": {
      "interpreter": {
        "hash": "aee8b7b246df8f9039afb4144a1f6fd8d2ca17a180786b69acc140d282b71a49"
      }
    },
    "colab": {
      "provenance": [],
      "include_colab_link": true
    },
    "accelerator": "GPU",
    "gpuClass": "standard"
  },
  "nbformat": 4,
  "nbformat_minor": 0
}